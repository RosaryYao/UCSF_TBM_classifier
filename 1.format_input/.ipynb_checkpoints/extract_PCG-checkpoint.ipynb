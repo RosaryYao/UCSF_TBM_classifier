{
 "cells": [
  {
   "cell_type": "code",
   "execution_count": 11,
   "metadata": {},
   "outputs": [],
   "source": [
    "import pandas as pd"
   ]
  },
  {
   "cell_type": "code",
   "execution_count": 12,
   "metadata": {},
   "outputs": [],
   "source": [
    "#Input the .txt file you wish to run through the classifier#\n",
    "\n",
    "df1 = pd.read_csv('data_files/test_combined_data.txt', sep = '\\t')"
   ]
  },
  {
   "cell_type": "code",
   "execution_count": 13,
   "metadata": {},
   "outputs": [],
   "source": [
    "#Input the ENSG_GeneSymbol_list.csv file that contains information on which genes are protein-coding#\n",
    "\n",
    "df2 = pd.read_csv('data_files/ENSG_GeneSymbol_list.csv')"
   ]
  },
  {
   "cell_type": "code",
   "execution_count": null,
   "metadata": {},
   "outputs": [],
   "source": [
    "#Merge and extract the formatted file#\n",
    "\n",
    "df3 = df1.merge(df2, how='inner', left_on='geneID', right_on='original')\n",
    "df4 = df3[df3['gene_biotype'] == 'protein_coding']\n",
    "\n",
    "formatted_data = df4.reset_index().drop('index',axis=1).drop('geneID',axis=1).set_index('ensembl').iloc[:,:-7]\n",
    "formatted_data.to_csv('data_files/final_test_set.csv')"
   ]
  },
  {
   "cell_type": "code",
   "execution_count": null,
   "metadata": {},
   "outputs": [],
   "source": []
  }
 ],
 "metadata": {
  "kernelspec": {
   "display_name": "Python 3",
   "language": "python",
   "name": "python3"
  },
  "language_info": {
   "codemirror_mode": {
    "name": "ipython",
    "version": 3
   },
   "file_extension": ".py",
   "mimetype": "text/x-python",
   "name": "python",
   "nbconvert_exporter": "python",
   "pygments_lexer": "ipython3",
   "version": "3.6.8"
  }
 },
 "nbformat": 4,
 "nbformat_minor": 2
}
